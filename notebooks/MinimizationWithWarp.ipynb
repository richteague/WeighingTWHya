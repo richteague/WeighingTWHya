{
 "cells": [
  {
   "cell_type": "code",
   "execution_count": 1,
   "metadata": {},
   "outputs": [],
   "source": [
    "%matplotlib inline\n",
    "import numpy as np\n",
    "import pymc3 as pm\n",
    "import exoplanet as xo\n",
    "import theano.tensor as tt\n",
    "import matplotlib.pyplot as plt\n",
    "from imgcube.cube import imagecube"
   ]
  },
  {
   "cell_type": "code",
   "execution_count": 28,
   "metadata": {},
   "outputs": [],
   "source": [
    "# Load data and convert to [K] with RJ approximation.\n",
    "cube = imagecube('../data/cont/TWHya.345GHz.circ.fits', clip=1.1, kelvin='RJ')"
   ]
  },
  {
   "cell_type": "code",
   "execution_count": 29,
   "metadata": {},
   "outputs": [],
   "source": [
    "# Pre-compute the arrays and grab a random subsample of them.\n",
    "np.random.seed(1234)\n",
    "X, Y = np.meshgrid(cube.xaxis, cube.yaxis)\n",
    "y = np.array(cube.data, dtype=np.float64).flatten()\n",
    "mask = (y > 0.0) & (np.random.rand(len(y)) < 1.0)\n",
    "mask = mask & (np.hypot(X, Y) <= 1.0).flatten()\n",
    "X = X.flatten()[mask]\n",
    "Y = Y.flatten()[mask]\n",
    "y = np.log(y[mask])"
   ]
  },
  {
   "cell_type": "code",
   "execution_count": 30,
   "metadata": {},
   "outputs": [],
   "source": [
    "# Define the deprojection function.\n",
    "def deproject(x0, y0, inc, PA, w0, i0, r0):\n",
    "    \"\"\"\n",
    "    Deproject the disk coordinates including a warped surface.\n",
    "    If the disk is highly inclined or there are big perturbations, \n",
    "    some pixels may be shadowed and convergence is not good.\n",
    "    \"\"\"\n",
    "    \n",
    "    # Get the rotated disk coordiantes.\n",
    "    x_sky, y_sky = X - x0, Y - y0\n",
    "    x_rot = y_sky * tt.cos(PA) + x_sky * tt.sin(PA)\n",
    "    y_rot = x_sky * tt.cos(PA) - y_sky * tt.sin(PA)\n",
    "    \n",
    "    # Iterate to account for warp.\n",
    "    # Increase iterations for better convergence.\n",
    "    y_tmp = y_rot / tt.cos(inc)\n",
    "    for _ in range(5):\n",
    "        r_tmp = tt.sqrt(x_rot**2 + y_tmp**2)\n",
    "        t_tmp = tt.arctan2(y_tmp, x_rot)\n",
    "        w_tmp = i0 * tt.exp(-0.5*((r_tmp / r0)**2))\n",
    "        z_tmp = r_tmp * np.tan(w_tmp) * np.sin(t_tmp - w0)\n",
    "        y_tmp = y_rot / tt.cos(inc) - z_tmp * tt.tan(inc)\n",
    "    r_disk = tt.sqrt(x_rot**2 + y_tmp**2)\n",
    "    t_disk = tt.arctan2(y_tmp, x_rot)\n",
    "    return r_disk, t_disk"
   ]
  },
  {
   "cell_type": "code",
   "execution_count": 31,
   "metadata": {},
   "outputs": [
    {
     "name": "stdout",
     "output_type": "stream",
     "text": [
      "optimizing logp for variables: ['slope', 'mu', 'logs2']\n",
      "message: Desired error not necessarily achieved due to precision loss.\n",
      "logp: -234514.0616640487 -> 8465.071020243784\n",
      "optimizing logp for variables: ['logpower', 'logtau_upperbound__', 'logs2', 'slope', 'mu', 'r0_interval__', 'i0_interval__', 'w0_interval__', 'pa_deg_interval__', 'inc_interval__', 'y0', 'x0']\n",
      "message: Desired error not necessarily achieved due to precision loss.\n",
      "logp: 8465.071020243784 -> 358455.14661638\n",
      "optimizing logp for variables: ['y0', 'x0']\n",
      "message: Desired error not necessarily achieved due to precision loss.\n",
      "logp: 358455.14661638 -> 358455.14661638\n",
      "optimizing logp for variables: ['logpower', 'logtau_upperbound__', 'logs2', 'slope', 'mu', 'r0_interval__', 'i0_interval__', 'w0_interval__', 'pa_deg_interval__', 'inc_interval__', 'y0', 'x0']\n",
      "message: Desired error not necessarily achieved due to precision loss.\n",
      "logp: 358455.14661638 -> 358455.14661638\n",
      "optimizing logp for variables: ['pa_deg_interval__', 'inc_interval__']\n",
      "message: Optimization terminated successfully.\n",
      "logp: 358455.14661638 -> 358455.1466163931\n",
      "optimizing logp for variables: ['logpower', 'logtau_upperbound__', 'logs2', 'slope', 'mu', 'r0_interval__', 'i0_interval__', 'w0_interval__', 'pa_deg_interval__', 'inc_interval__', 'y0', 'x0']\n",
      "message: Desired error not necessarily achieved due to precision loss.\n",
      "logp: 358455.1466163931 -> 358455.1466163931\n",
      "optimizing logp for variables: ['logtau_upperbound__', 'logpower', 'logs2']\n",
      "message: Desired error not necessarily achieved due to precision loss.\n",
      "logp: 358455.1466163931 -> 358455.1466163931\n",
      "optimizing logp for variables: ['logpower', 'logtau_upperbound__', 'logs2', 'slope', 'mu', 'r0_interval__', 'i0_interval__', 'w0_interval__', 'pa_deg_interval__', 'inc_interval__', 'y0', 'x0']\n",
      "message: Desired error not necessarily achieved due to precision loss.\n",
      "logp: 358455.1466163931 -> 358455.1466163931\n",
      "optimizing logp for variables: ['logpower', 'logtau_upperbound__', 'logs2', 'slope', 'mu', 'r0_interval__', 'i0_interval__', 'w0_interval__', 'pa_deg_interval__', 'inc_interval__', 'y0', 'x0']\n",
      "message: Desired error not necessarily achieved due to precision loss.\n",
      "logp: 358455.1466163931 -> 358455.1466163931\n"
     ]
    }
   ],
   "source": [
    "with pm.Model() as model:\n",
    "    \n",
    "    # Geometrical properties\n",
    "    x0 = pm.Normal(\"x0\", mu=0.0, sd=0.1)\n",
    "    y0 = pm.Normal(\"y0\", mu=0.0, sd=0.1)\n",
    "    inc = pm.Uniform(\"inc\", lower=0.0, upper=0.2*np.pi)\n",
    "    pa_deg = pm.Uniform(\"pa_deg\", lower=130., upper=170.)\n",
    "    pa = pa_deg * np.pi / 180.0\n",
    "    \n",
    "    # Warp properties\n",
    "    w0 = pm.Uniform(\"w0\", lower=-0.5*np.pi, upper=0.5*np.pi)\n",
    "    i0 = pm.Uniform(\"i0\", lower=-0.3, upper=0.3)\n",
    "    r0 = pm.Uniform(\"r0\", lower=0.0, upper=3.0)\n",
    "    \n",
    "    # Mean model\n",
    "    mu = pm.Normal(\"mu\", mu=np.mean(y), sd=100.0)\n",
    "    slope = pm.Normal(\"slope\", mu=0.0, sd=100.0)\n",
    "    \n",
    "    # Get the projected coordinates\n",
    "    r, t = deproject(x0, y0, inc, pa, w0, i0, r0)\n",
    "    #r, t = deproject_flat(x0, y0, inc, pa)\n",
    "    inds = tt.argsort(r)\n",
    "    \n",
    "    # Sort by radius\n",
    "    r_sort = r[inds]\n",
    "    y_sort = tt.as_tensor_variable(y)[inds]\n",
    "    \n",
    "    # Jitter & GP parameters\n",
    "    logs2 = pm.Normal(\"logs2\", mu=np.log(np.var(y)), sd=10)\n",
    "    logw0_guess = np.log(2*np.pi/0.1)\n",
    "    logtau = pm.Bound(pm.Normal, upper=2.0)(\n",
    "        \"logtau\", mu=np.log(2*np.pi)-logw0_guess, sd=10)\n",
    "    logw0 = np.log(2*np.pi) - logtau\n",
    "\n",
    "    # We'll parameterize using the maximum power (S_0 * w_0^4) instead of\n",
    "    # S_0 directly because this removes some of the degeneracies between\n",
    "    # S_0 and omega_0\n",
    "    logpower = pm.Normal(\"logpower\",\n",
    "                         mu=np.log(np.var(y))+4*logw0_guess,\n",
    "                         sd=10)\n",
    "    logS0 = pm.Deterministic(\"logS0\", logpower - 4 * logw0)\n",
    "\n",
    "    # Setup the GP\n",
    "    kernel = xo.gp.terms.SHOTerm(log_S0=logS0, log_w0=logw0, Q=1/np.sqrt(2))\n",
    "    gp = xo.gp.GP(kernel, r_sort, tt.exp(0.5*logs2) + np.zeros_like(y), J=2)\n",
    "    \n",
    "    # Compute the mean model\n",
    "    line = mu + slope * r_sort\n",
    "    \n",
    "    # Compute the GP likelihood and predictions\n",
    "    pm.Potential(\"loglike\", gp.log_likelihood(y_sort - line))\n",
    "    gp_pred = gp.predict() + line\n",
    "    \n",
    "    # Optimize to find the MAP\n",
    "    map_soln = model.test_point\n",
    "    map_soln = xo.optimize(map_soln, vars=[logs2, mu, slope])\n",
    "    map_soln = xo.optimize(map_soln)\n",
    "    map_soln = xo.optimize(map_soln, vars=[x0, y0])\n",
    "    map_soln = xo.optimize(map_soln)\n",
    "    map_soln = xo.optimize(map_soln, vars=[inc, pa_deg])\n",
    "    map_soln = xo.optimize(map_soln)\n",
    "    map_soln = xo.optimize(map_soln, vars=[logs2, logpower, logtau])\n",
    "    map_soln = xo.optimize(map_soln)\n",
    "    #map_soln = xo.optimize(map_soln, vars=[w0, i0, r0])\n",
    "    map_soln = xo.optimize(map_soln)"
   ]
  },
  {
   "cell_type": "code",
   "execution_count": 32,
   "metadata": {},
   "outputs": [
    {
     "name": "stdout",
     "output_type": "stream",
     "text": [
      "MAP inclination: 30.45 degrees.\n",
      "MAP position angle: 169.95 degrees.\n"
     ]
    },
    {
     "data": {
      "text/plain": [
       "<matplotlib.legend.Legend at 0x1c2af89860>"
      ]
     },
     "execution_count": 32,
     "metadata": {},
     "output_type": "execute_result"
    },
    {
     "data": {
      "image/png": "[encoded data removed]",
      "text/plain": [
       "<Figure size 432x288 with 1 Axes>"
      ]
     },
     "metadata": {
      "needs_background": "light"
     },
     "output_type": "display_data"
    }
   ],
   "source": [
    "with model:\n",
    "    a, b, c, d = xo.utils.eval_in_model([r_sort, y_sort, gp_pred, line], map_soln)\n",
    "print('MAP inclination: %.2f degrees.' % np.degrees(map_soln['inc']))\n",
    "print('MAP position angle: %.2f degrees.' % map_soln['pa_deg'])\n",
    "print('MAP {i0, r0, w0} = {%.2f, %.2f, %.2f}' % (map_soln[\"i0\"], map_soln[\"r0\"], map_soln[\"w0\"]))\n",
    "plt.scatter(a, np.exp(b), label=\"data\", s=1, c='k', alpha=0.02)\n",
    "plt.plot(a, np.exp(c), label=\"model\")\n",
    "plt.plot(a, np.exp(d), label=\"mean\")\n",
    "plt.legend()"
   ]
  },
  {
   "cell_type": "code",
   "execution_count": 34,
   "metadata": {},
   "outputs": [
    {
     "data": {
      "text/plain": [
       "0.2617993877991494"
      ]
     },
     "execution_count": 34,
     "metadata": {},
     "output_type": "execute_result"
    }
   ],
   "source": [
    "np.radians(15.0)"
   ]
  },
  {
   "cell_type": "code",
   "execution_count": null,
   "metadata": {},
   "outputs": [],
   "source": []
  }
 ],
 "metadata": {
  "kernelspec": {
   "display_name": "Python 3",
   "language": "python",
   "name": "python3"
  },
  "language_info": {
   "codemirror_mode": {
    "name": "ipython",
    "version": 3
   },
   "file_extension": ".py",
   "mimetype": "text/x-python",
   "name": "python",
   "nbconvert_exporter": "python",
   "pygments_lexer": "ipython3",
   "version": "3.5.5"
  }
 },
 "nbformat": 4,
 "nbformat_minor": 2
}
